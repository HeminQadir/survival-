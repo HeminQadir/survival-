{
 "cells": [
  {
   "cell_type": "code",
   "execution_count": 27,
   "metadata": {},
   "outputs": [],
   "source": [
    "from dataset.dataloader import get_loader, get_loader_inference \n",
    "from dataset.data_split_fold import datafold_read, datafold_read_inference\n",
    "\n",
    "from monai.utils import first, set_determinism\n",
    "import matplotlib.pyplot as plt\n",
    "import json\n",
    "\n",
    "from monai.transforms import (\n",
    "    AsDiscrete,\n",
    "    Compose,\n",
    "    CropForegroundd,\n",
    "    LoadImaged,\n",
    "    Orientationd,\n",
    "    RandFlipd,\n",
    "    RandCropByPosNegLabeld,\n",
    "    RandShiftIntensityd,\n",
    "    ScaleIntensityRanged,\n",
    "    Spacingd,\n",
    "    RandRotate90d,\n",
    "    EnsureTyped,\n",
    "    SpatialPadd,\n",
    "    MapTransform,\n",
    "    EnsureChannelFirstd,\n",
    "    Rotate90d, \n",
    "    Flipd,\n",
    "    Lambdad,\n",
    "    ToTensord\n",
    ")\n",
    "\n",
    "from monai.data import (\n",
    "    DataLoader,\n",
    "    Dataset,\n",
    ")\n",
    "\n",
    "from typing import Dict, Any"
   ]
  },
  {
   "cell_type": "code",
   "execution_count": 28,
   "metadata": {},
   "outputs": [],
   "source": [
    "def datafold_read(dataset_json, fold=0, key=\"training\"):\n",
    "    with open(dataset_json) as f:\n",
    "        json_data = json.load(f)\n",
    "    json_data = json_data[key]\n",
    "    tr = []\n",
    "    val = []\n",
    "    for d in json_data:\n",
    "        if \"fold\" in d and d[\"fold\"] == fold:\n",
    "            val.append(d)\n",
    "        else:\n",
    "            tr.append(d)\n",
    "    return tr, val"
   ]
  },
  {
   "cell_type": "code",
   "execution_count": 29,
   "metadata": {},
   "outputs": [],
   "source": [
    "\n",
    "\n",
    "class MultiplyImageLabeld(MapTransform):\n",
    "    def __call__(self, data: Dict[str, Any]) -> Dict[str, Any]:\n",
    "        data = dict(data)\n",
    "        data[\"image\"] = data[\"image\"] * data[\"label\"]\n",
    "        return data"
   ]
  },
  {
   "cell_type": "code",
   "execution_count": 30,
   "metadata": {},
   "outputs": [],
   "source": [
    "transforms = Compose(\n",
    "    [\n",
    "        LoadImaged(keys=[\"image\", \"label\"], image_only=True),\n",
    "        EnsureChannelFirstd(keys=[\"image\", \"label\"]),\n",
    "        Rotate90d(keys=[\"image\", \"label\"], spatial_axes=(0, 1)),\n",
    "        Flipd(keys=[\"label\"], spatial_axis=0),\n",
    "        Lambdad(keys=[\"label\"], func=lambda label: (label >= 1) * 1),\n",
    "        ScaleIntensityRanged(keys=[\"image\"],\n",
    "                                a_min=-175,\n",
    "                                a_max=250,\n",
    "                                b_min=0.0,\n",
    "                                b_max=1.0,\n",
    "                                clip=True,\n",
    "        ),\n",
    "        CropForegroundd(keys=[\"image\", \"label\"], source_key=\"image\"),\n",
    "        CropForegroundd(keys=[\"image\", \"label\"], source_key=\"label\"),\n",
    "        Orientationd(keys=[\"image\", \"label\"], axcodes=\"RAS\"),\n",
    "        Spacingd(\n",
    "            keys=[\"image\", \"label\"],\n",
    "            pixdim=(1.5, .25, 2.0),\n",
    "            mode=(\"bilinear\", \"nearest\"),\n",
    "        ),\n",
    "        \n",
    "        # Multiply image with label\n",
    "        MultiplyImageLabeld(keys=[\"image\", \"label\"]),  # keys parameter is optional here\n",
    "        #EnsureTyped(keys=[\"image\", \"label\"], device=device, track_meta=False),\n",
    "        SpatialPadd(keys=[\"image\", \"label\"], spatial_size=(96, 96, 96), mode='constant'),\n",
    "        ToTensord(keys=[\"image\"]),\n",
    "    ]\n",
    ")"
   ]
  },
  {
   "cell_type": "code",
   "execution_count": 34,
   "metadata": {},
   "outputs": [],
   "source": [
    "\n",
    "train_transforms = Compose(\n",
    "    [\n",
    "        LoadImaged(keys=[\"image\", \"label\"], image_only=True),\n",
    "        EnsureChannelFirstd(keys=[\"image\", \"label\"]),\n",
    "        Rotate90d(keys=[\"image\", \"label\"], spatial_axes=(0, 1)),\n",
    "        Flipd(keys=[\"label\"], spatial_axis=0),\n",
    "        Lambdad(keys=[\"label\"], func=lambda label: (label >= 1) * 1),\n",
    "        ScaleIntensityRanged(keys=[\"image\"],\n",
    "                                a_min=-175,\n",
    "                                a_max=250,\n",
    "                                b_min=0.0,\n",
    "                                b_max=1.0,\n",
    "                                clip=True,\n",
    "        ),\n",
    "        CropForegroundd(keys=[\"image\", \"label\"], source_key=\"image\"),\n",
    "        CropForegroundd(keys=[\"image\", \"label\"], source_key=\"label\"),\n",
    "        Orientationd(keys=[\"image\", \"label\"], axcodes=\"RAS\"),\n",
    "        Spacingd(\n",
    "            keys=[\"image\", \"label\"],\n",
    "            pixdim=(1.5, .25, 2.0),\n",
    "            mode=(\"bilinear\", \"nearest\"),\n",
    "        ),\n",
    "        \n",
    "        # Multiply image with label\n",
    "        MultiplyImageLabeld(keys=[\"image\", \"label\"]),  # keys parameter is optional here\n",
    "        #EnsureTyped(keys=[\"image\", \"label\"], device=device, track_meta=False),\n",
    "        SpatialPadd(keys=[\"image\", \"label\"], spatial_size=(96, 96, 96), mode='constant'),\n",
    "        RandCropByPosNegLabeld(\n",
    "            keys=[\"image\", \"label\"],\n",
    "            label_key=\"label\",\n",
    "            spatial_size=(96, 96, 96),\n",
    "            pos=1,\n",
    "            neg=1,\n",
    "            num_samples=4,\n",
    "            image_key=\"image\",\n",
    "            image_threshold=0,\n",
    "        ),\n",
    "        RandFlipd(\n",
    "            keys=[\"image\", \"label\"],\n",
    "            spatial_axis=[0],\n",
    "            prob=0.10,\n",
    "        ),\n",
    "        RandFlipd(\n",
    "            keys=[\"image\", \"label\"],\n",
    "            spatial_axis=[1],\n",
    "            prob=0.10,\n",
    "        ),\n",
    "        RandFlipd(\n",
    "            keys=[\"image\", \"label\"],\n",
    "            spatial_axis=[2],\n",
    "            prob=0.10,\n",
    "        ),\n",
    "        RandRotate90d(\n",
    "            keys=[\"image\", \"label\"],\n",
    "            prob=0.10,\n",
    "            max_k=3,\n",
    "        ),\n",
    "        RandShiftIntensityd(\n",
    "            keys=[\"image\"],\n",
    "            offsets=0.10,\n",
    "            prob=0.50,\n",
    "        ),\n",
    "        ToTensord(keys=[\"image\"]),\n",
    "    ]\n",
    ")"
   ]
  },
  {
   "cell_type": "code",
   "execution_count": 35,
   "metadata": {},
   "outputs": [],
   "source": [
    "dataset_json = './dataset/dataset_json_files/training_data_nikhil_debug.json'\n",
    "# Split the dataset into train and validation subsets \n",
    "train_files, val_files = datafold_read(dataset_json) \n",
    "\n",
    "train_ds = Dataset(data=train_files, \n",
    "                    transform=train_transforms)\n",
    "\n",
    "train_loader = DataLoader(\n",
    "train_ds, \n",
    "batch_size=1)        "
   ]
  },
  {
   "cell_type": "code",
   "execution_count": 36,
   "metadata": {},
   "outputs": [
    {
     "name": "stdout",
     "output_type": "stream",
     "text": [
      "image shape: torch.Size([96, 96, 96]), label shape: torch.Size([96, 96, 96])\n"
     ]
    },
    {
     "data": {
      "image/png": "[encoded data removed]",
      "text/plain": [
       "<Figure size 1200x600 with 2 Axes>"
      ]
     },
     "metadata": {},
     "output_type": "display_data"
    }
   ],
   "source": [
    "check_data = first(train_loader)\n",
    "image, label = (check_data[\"image\"][0][0], check_data[\"label\"][0][0])\n",
    "print(f\"image shape: {image.shape}, label shape: {label.shape}\")\n",
    "# plot the slice [:, :, 80]\n",
    "plt.figure(\"check\", (12, 6))\n",
    "plt.subplot(1, 2, 1)\n",
    "plt.title(\"image\")\n",
    "plt.imshow(image[:, :, 35], cmap=\"gray\")\n",
    "plt.subplot(1, 2, 2)\n",
    "plt.title(\"label\")\n",
    "plt.imshow(label[:, :, 35])\n",
    "plt.show()"
   ]
  },
  {
   "cell_type": "code",
   "execution_count": 37,
   "metadata": {},
   "outputs": [
    {
     "data": {
      "image/png": "[encoded data removed]",
      "text/plain": [
       "<Figure size 640x480 with 1 Axes>"
      ]
     },
     "metadata": {},
     "output_type": "display_data"
    }
   ],
   "source": [
    "# Display a slice\n",
    "slice_index = image.shape[2] // 2  # Middle slice\n",
    "slice_index = 35\n",
    "plt.imshow(image[:, :, slice_index], cmap='gray')\n",
    "plt.title(\"CT Scan Slice\")\n",
    "plt.axis(\"off\")\n",
    "plt.show()"
   ]
  },
  {
   "cell_type": "code",
   "execution_count": null,
   "metadata": {},
   "outputs": [],
   "source": []
  }
 ],
 "metadata": {
  "kernelspec": {
   "display_name": "universal",
   "language": "python",
   "name": "python3"
  },
  "language_info": {
   "codemirror_mode": {
    "name": "ipython",
    "version": 3
   },
   "file_extension": ".py",
   "mimetype": "text/x-python",
   "name": "python",
   "nbconvert_exporter": "python",
   "pygments_lexer": "ipython3",
   "version": "3.8.18"
  }
 },
 "nbformat": 4,
 "nbformat_minor": 2
}
